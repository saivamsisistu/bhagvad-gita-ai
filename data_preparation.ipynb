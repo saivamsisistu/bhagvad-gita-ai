{
 "cells": [
  {
   "cell_type": "code",
   "execution_count": 2,
   "id": "a7486d94",
   "metadata": {},
   "outputs": [
    {
     "name": "stdout",
     "output_type": "stream",
     "text": [
      "Collecting pandas\n",
      "  Downloading pandas-2.2.3-cp312-cp312-manylinux_2_17_x86_64.manylinux2014_x86_64.whl.metadata (89 kB)\n",
      "Collecting numpy>=1.26.0 (from pandas)\n",
      "  Downloading numpy-2.2.4-cp312-cp312-manylinux_2_17_x86_64.manylinux2014_x86_64.whl.metadata (62 kB)\n",
      "Requirement already satisfied: python-dateutil>=2.8.2 in ./.venv/lib/python3.12/site-packages (from pandas) (2.9.0.post0)\n",
      "Collecting pytz>=2020.1 (from pandas)\n",
      "  Downloading pytz-2025.2-py2.py3-none-any.whl.metadata (22 kB)\n",
      "Collecting tzdata>=2022.7 (from pandas)\n",
      "  Downloading tzdata-2025.2-py2.py3-none-any.whl.metadata (1.4 kB)\n",
      "Requirement already satisfied: six>=1.5 in ./.venv/lib/python3.12/site-packages (from python-dateutil>=2.8.2->pandas) (1.17.0)\n",
      "Downloading pandas-2.2.3-cp312-cp312-manylinux_2_17_x86_64.manylinux2014_x86_64.whl (12.7 MB)\n",
      "\u001b[2K   \u001b[90m━━━━━━━━━━━━━━━━━━━━━━━━━━━━━━━━━━━━━━━━\u001b[0m \u001b[32m12.7/12.7 MB\u001b[0m \u001b[31m26.5 MB/s\u001b[0m eta \u001b[36m0:00:00\u001b[0m00:01\u001b[0m0:01\u001b[0m\n",
      "\u001b[?25hDownloading numpy-2.2.4-cp312-cp312-manylinux_2_17_x86_64.manylinux2014_x86_64.whl (16.1 MB)\n",
      "\u001b[2K   \u001b[90m━━━━━━━━━━━━━━━━━━━━━━━━━━━━━━━━━━━━━━━━\u001b[0m \u001b[32m16.1/16.1 MB\u001b[0m \u001b[31m40.5 MB/s\u001b[0m eta \u001b[36m0:00:00\u001b[0m00:01\u001b[0m\n",
      "\u001b[?25hDownloading pytz-2025.2-py2.py3-none-any.whl (509 kB)\n",
      "Downloading tzdata-2025.2-py2.py3-none-any.whl (347 kB)\n",
      "Installing collected packages: pytz, tzdata, numpy, pandas\n",
      "Successfully installed numpy-2.2.4 pandas-2.2.3 pytz-2025.2 tzdata-2025.2\n",
      "Note: you may need to restart the kernel to use updated packages.\n"
     ]
    }
   ],
   "source": [
    "pip install pandas\n"
   ]
  },
  {
   "cell_type": "code",
   "execution_count": 2,
   "id": "84f4c0dd",
   "metadata": {},
   "outputs": [],
   "source": [
    "import pandas as pd\n",
    "df=pd.read_csv(\"Bhagwad_Gita.csv\")\n"
   ]
  },
  {
   "cell_type": "code",
   "execution_count": 3,
   "id": "d2660c58",
   "metadata": {},
   "outputs": [
    {
     "data": {
      "text/html": [
       "<div>\n",
       "<style scoped>\n",
       "    .dataframe tbody tr th:only-of-type {\n",
       "        vertical-align: middle;\n",
       "    }\n",
       "\n",
       "    .dataframe tbody tr th {\n",
       "        vertical-align: top;\n",
       "    }\n",
       "\n",
       "    .dataframe thead th {\n",
       "        text-align: right;\n",
       "    }\n",
       "</style>\n",
       "<table border=\"1\" class=\"dataframe\">\n",
       "  <thead>\n",
       "    <tr style=\"text-align: right;\">\n",
       "      <th></th>\n",
       "      <th>ID</th>\n",
       "      <th>Chapter</th>\n",
       "      <th>Verse</th>\n",
       "      <th>Shloka</th>\n",
       "      <th>Transliteration</th>\n",
       "      <th>HinMeaning</th>\n",
       "      <th>EngMeaning</th>\n",
       "      <th>WordMeaning</th>\n",
       "    </tr>\n",
       "  </thead>\n",
       "  <tbody>\n",
       "    <tr>\n",
       "      <th>0</th>\n",
       "      <td>BG1.1</td>\n",
       "      <td>1</td>\n",
       "      <td>1</td>\n",
       "      <td>धृतराष्ट्र उवाच |\\nधर्मक्षेत्रे कुरुक्षेत्रे स...</td>\n",
       "      <td>dhṛtarāṣṭra uvāca .\\ndharmakṣetre kurukṣetre s...</td>\n",
       "      <td>।।1.1।।धृतराष्ट्र ने कहा -- हे संजय ! धर्मभूमि...</td>\n",
       "      <td>1.1 Dhritarashtra said  What did my people and...</td>\n",
       "      <td>1.1 धर्मक्षेत्रे on the holy plain? कुरुक्षेत्...</td>\n",
       "    </tr>\n",
       "    <tr>\n",
       "      <th>1</th>\n",
       "      <td>BG1.2</td>\n",
       "      <td>1</td>\n",
       "      <td>2</td>\n",
       "      <td>सञ्जय उवाच |\\nदृष्ट्वा तु पाण्डवानीकं व्यूढं द...</td>\n",
       "      <td>sañjaya uvāca .\\ndṛṣṭvā tu pāṇḍavānīkaṃ vyūḍha...</td>\n",
       "      <td>।।1.2।।संजय ने कहा -- पाण्डव-सैन्य की व्यूह रच...</td>\n",
       "      <td>1.2. Sanjaya said  Having seen the army of the...</td>\n",
       "      <td>1.2 दृष्ट्वा having seen? तु indeed? पाण्डवानी...</td>\n",
       "    </tr>\n",
       "    <tr>\n",
       "      <th>2</th>\n",
       "      <td>BG1.3</td>\n",
       "      <td>1</td>\n",
       "      <td>3</td>\n",
       "      <td>पश्यैतां पाण्डुपुत्राणामाचार्य महतीं चमूम् |\\n...</td>\n",
       "      <td>paśyaitāṃ pāṇḍuputrāṇāmācārya mahatīṃ camūm .\\...</td>\n",
       "      <td>।।1.3।।हे आचार्य ! आपके बुद्धिमान शिष्य द्रुपद...</td>\n",
       "      <td>1.3. \"Behold, O Teacher! this mighty army of t...</td>\n",
       "      <td>1.3 पश्य behold? एताम् this? पाण्डुपुत्राणाम् ...</td>\n",
       "    </tr>\n",
       "    <tr>\n",
       "      <th>3</th>\n",
       "      <td>BG1.4</td>\n",
       "      <td>1</td>\n",
       "      <td>4</td>\n",
       "      <td>अत्र शूरा महेष्वासा भीमार्जुनसमा युधि |\\nयुयुध...</td>\n",
       "      <td>atra śūrā maheṣvāsā bhīmārjunasamā yudhi .\\nyu...</td>\n",
       "      <td>।।1.4।।इस सेना में महान् धनुर्धारी शूर योद्धा ...</td>\n",
       "      <td>1.4. Here are heroes, mighty archers, eal in b...</td>\n",
       "      <td>1.4 अत्र here? शूराः heroes? महेष्वासाः mighty...</td>\n",
       "    </tr>\n",
       "    <tr>\n",
       "      <th>4</th>\n",
       "      <td>BG1.5</td>\n",
       "      <td>1</td>\n",
       "      <td>5</td>\n",
       "      <td>धृष्टकेतुश्चेकितानः काशिराजश्च वीर्यवान् |\\nपु...</td>\n",
       "      <td>dhṛṣṭaketuścekitānaḥ kāśirājaśca vīryavān .\\np...</td>\n",
       "      <td>।।1.5।।धृष्टकेतु, चेकितान, बलवान काशिराज,  पुर...</td>\n",
       "      <td>1.5. \"Dhrishtaketu, chekitana and the valiant ...</td>\n",
       "      <td>1.5 धृष्टकेतुः Dhrishtaketu? चेकितानः Chekitan...</td>\n",
       "    </tr>\n",
       "  </tbody>\n",
       "</table>\n",
       "</div>"
      ],
      "text/plain": [
       "      ID  Chapter  Verse                                             Shloka  \\\n",
       "0  BG1.1        1      1  धृतराष्ट्र उवाच |\\nधर्मक्षेत्रे कुरुक्षेत्रे स...   \n",
       "1  BG1.2        1      2  सञ्जय उवाच |\\nदृष्ट्वा तु पाण्डवानीकं व्यूढं द...   \n",
       "2  BG1.3        1      3  पश्यैतां पाण्डुपुत्राणामाचार्य महतीं चमूम् |\\n...   \n",
       "3  BG1.4        1      4  अत्र शूरा महेष्वासा भीमार्जुनसमा युधि |\\nयुयुध...   \n",
       "4  BG1.5        1      5  धृष्टकेतुश्चेकितानः काशिराजश्च वीर्यवान् |\\nपु...   \n",
       "\n",
       "                                     Transliteration  \\\n",
       "0  dhṛtarāṣṭra uvāca .\\ndharmakṣetre kurukṣetre s...   \n",
       "1  sañjaya uvāca .\\ndṛṣṭvā tu pāṇḍavānīkaṃ vyūḍha...   \n",
       "2  paśyaitāṃ pāṇḍuputrāṇāmācārya mahatīṃ camūm .\\...   \n",
       "3  atra śūrā maheṣvāsā bhīmārjunasamā yudhi .\\nyu...   \n",
       "4  dhṛṣṭaketuścekitānaḥ kāśirājaśca vīryavān .\\np...   \n",
       "\n",
       "                                          HinMeaning  \\\n",
       "0  ।।1.1।।धृतराष्ट्र ने कहा -- हे संजय ! धर्मभूमि...   \n",
       "1  ।।1.2।।संजय ने कहा -- पाण्डव-सैन्य की व्यूह रच...   \n",
       "2  ।।1.3।।हे आचार्य ! आपके बुद्धिमान शिष्य द्रुपद...   \n",
       "3  ।।1.4।।इस सेना में महान् धनुर्धारी शूर योद्धा ...   \n",
       "4  ।।1.5।।धृष्टकेतु, चेकितान, बलवान काशिराज,  पुर...   \n",
       "\n",
       "                                          EngMeaning  \\\n",
       "0  1.1 Dhritarashtra said  What did my people and...   \n",
       "1  1.2. Sanjaya said  Having seen the army of the...   \n",
       "2  1.3. \"Behold, O Teacher! this mighty army of t...   \n",
       "3  1.4. Here are heroes, mighty archers, eal in b...   \n",
       "4  1.5. \"Dhrishtaketu, chekitana and the valiant ...   \n",
       "\n",
       "                                         WordMeaning  \n",
       "0  1.1 धर्मक्षेत्रे on the holy plain? कुरुक्षेत्...  \n",
       "1  1.2 दृष्ट्वा having seen? तु indeed? पाण्डवानी...  \n",
       "2  1.3 पश्य behold? एताम् this? पाण्डुपुत्राणाम् ...  \n",
       "3  1.4 अत्र here? शूराः heroes? महेष्वासाः mighty...  \n",
       "4  1.5 धृष्टकेतुः Dhrishtaketu? चेकितानः Chekitan...  "
      ]
     },
     "execution_count": 3,
     "metadata": {},
     "output_type": "execute_result"
    }
   ],
   "source": [
    "df.head()"
   ]
  },
  {
   "cell_type": "code",
   "execution_count": 4,
   "id": "fca217a1",
   "metadata": {},
   "outputs": [
    {
     "data": {
      "text/plain": [
       "Index(['ID', 'Chapter', 'Verse', 'Shloka', 'Transliteration', 'HinMeaning',\n",
       "       'EngMeaning', 'WordMeaning'],\n",
       "      dtype='object')"
      ]
     },
     "execution_count": 4,
     "metadata": {},
     "output_type": "execute_result"
    }
   ],
   "source": [
    "df.columns"
   ]
  },
  {
   "cell_type": "code",
   "execution_count": 5,
   "id": "e9e1a1fe",
   "metadata": {},
   "outputs": [
    {
     "name": "stdout",
     "output_type": "stream",
     "text": [
      "<class 'pandas.core.frame.DataFrame'>\n",
      "RangeIndex: 701 entries, 0 to 700\n",
      "Data columns (total 8 columns):\n",
      " #   Column           Non-Null Count  Dtype \n",
      "---  ------           --------------  ----- \n",
      " 0   ID               701 non-null    object\n",
      " 1   Chapter          701 non-null    int64 \n",
      " 2   Verse            701 non-null    int64 \n",
      " 3   Shloka           701 non-null    object\n",
      " 4   Transliteration  701 non-null    object\n",
      " 5   HinMeaning       701 non-null    object\n",
      " 6   EngMeaning       701 non-null    object\n",
      " 7   WordMeaning      701 non-null    object\n",
      "dtypes: int64(2), object(6)\n",
      "memory usage: 43.9+ KB\n"
     ]
    }
   ],
   "source": [
    "df.info()"
   ]
  },
  {
   "cell_type": "markdown",
   "id": "4d54875d",
   "metadata": {},
   "source": [
    "data doesn't have any duplicate values and null values. It is fit this data futhur.\n"
   ]
  },
  {
   "cell_type": "code",
   "execution_count": 6,
   "id": "1d24d726",
   "metadata": {},
   "outputs": [],
   "source": [
    "#adding seprate columns in the table for training model\n",
    "df[\"category\"] = [[] for _ in range(len(df))]\n",
    "df[\"tags\"] = [[] for _ in range(len(df))]\n",
    "df[\"explanation\"] = \"\""
   ]
  },
  {
   "cell_type": "code",
   "execution_count": 7,
   "id": "5452ad02",
   "metadata": {},
   "outputs": [
    {
     "data": {
      "text/html": [
       "<div>\n",
       "<style scoped>\n",
       "    .dataframe tbody tr th:only-of-type {\n",
       "        vertical-align: middle;\n",
       "    }\n",
       "\n",
       "    .dataframe tbody tr th {\n",
       "        vertical-align: top;\n",
       "    }\n",
       "\n",
       "    .dataframe thead th {\n",
       "        text-align: right;\n",
       "    }\n",
       "</style>\n",
       "<table border=\"1\" class=\"dataframe\">\n",
       "  <thead>\n",
       "    <tr style=\"text-align: right;\">\n",
       "      <th></th>\n",
       "      <th>ID</th>\n",
       "      <th>Chapter</th>\n",
       "      <th>Verse</th>\n",
       "      <th>Shloka</th>\n",
       "      <th>Transliteration</th>\n",
       "      <th>HinMeaning</th>\n",
       "      <th>EngMeaning</th>\n",
       "      <th>WordMeaning</th>\n",
       "      <th>category</th>\n",
       "      <th>tags</th>\n",
       "      <th>explanation</th>\n",
       "    </tr>\n",
       "  </thead>\n",
       "  <tbody>\n",
       "    <tr>\n",
       "      <th>0</th>\n",
       "      <td>BG1.1</td>\n",
       "      <td>1</td>\n",
       "      <td>1</td>\n",
       "      <td>धृतराष्ट्र उवाच |\\nधर्मक्षेत्रे कुरुक्षेत्रे स...</td>\n",
       "      <td>dhṛtarāṣṭra uvāca .\\ndharmakṣetre kurukṣetre s...</td>\n",
       "      <td>।।1.1।।धृतराष्ट्र ने कहा -- हे संजय ! धर्मभूमि...</td>\n",
       "      <td>1.1 Dhritarashtra said  What did my people and...</td>\n",
       "      <td>1.1 धर्मक्षेत्रे on the holy plain? कुरुक्षेत्...</td>\n",
       "      <td>[]</td>\n",
       "      <td>[]</td>\n",
       "      <td></td>\n",
       "    </tr>\n",
       "    <tr>\n",
       "      <th>1</th>\n",
       "      <td>BG1.2</td>\n",
       "      <td>1</td>\n",
       "      <td>2</td>\n",
       "      <td>सञ्जय उवाच |\\nदृष्ट्वा तु पाण्डवानीकं व्यूढं द...</td>\n",
       "      <td>sañjaya uvāca .\\ndṛṣṭvā tu pāṇḍavānīkaṃ vyūḍha...</td>\n",
       "      <td>।।1.2।।संजय ने कहा -- पाण्डव-सैन्य की व्यूह रच...</td>\n",
       "      <td>1.2. Sanjaya said  Having seen the army of the...</td>\n",
       "      <td>1.2 दृष्ट्वा having seen? तु indeed? पाण्डवानी...</td>\n",
       "      <td>[]</td>\n",
       "      <td>[]</td>\n",
       "      <td></td>\n",
       "    </tr>\n",
       "    <tr>\n",
       "      <th>2</th>\n",
       "      <td>BG1.3</td>\n",
       "      <td>1</td>\n",
       "      <td>3</td>\n",
       "      <td>पश्यैतां पाण्डुपुत्राणामाचार्य महतीं चमूम् |\\n...</td>\n",
       "      <td>paśyaitāṃ pāṇḍuputrāṇāmācārya mahatīṃ camūm .\\...</td>\n",
       "      <td>।।1.3।।हे आचार्य ! आपके बुद्धिमान शिष्य द्रुपद...</td>\n",
       "      <td>1.3. \"Behold, O Teacher! this mighty army of t...</td>\n",
       "      <td>1.3 पश्य behold? एताम् this? पाण्डुपुत्राणाम् ...</td>\n",
       "      <td>[]</td>\n",
       "      <td>[]</td>\n",
       "      <td></td>\n",
       "    </tr>\n",
       "    <tr>\n",
       "      <th>3</th>\n",
       "      <td>BG1.4</td>\n",
       "      <td>1</td>\n",
       "      <td>4</td>\n",
       "      <td>अत्र शूरा महेष्वासा भीमार्जुनसमा युधि |\\nयुयुध...</td>\n",
       "      <td>atra śūrā maheṣvāsā bhīmārjunasamā yudhi .\\nyu...</td>\n",
       "      <td>।।1.4।।इस सेना में महान् धनुर्धारी शूर योद्धा ...</td>\n",
       "      <td>1.4. Here are heroes, mighty archers, eal in b...</td>\n",
       "      <td>1.4 अत्र here? शूराः heroes? महेष्वासाः mighty...</td>\n",
       "      <td>[]</td>\n",
       "      <td>[]</td>\n",
       "      <td></td>\n",
       "    </tr>\n",
       "    <tr>\n",
       "      <th>4</th>\n",
       "      <td>BG1.5</td>\n",
       "      <td>1</td>\n",
       "      <td>5</td>\n",
       "      <td>धृष्टकेतुश्चेकितानः काशिराजश्च वीर्यवान् |\\nपु...</td>\n",
       "      <td>dhṛṣṭaketuścekitānaḥ kāśirājaśca vīryavān .\\np...</td>\n",
       "      <td>।।1.5।।धृष्टकेतु, चेकितान, बलवान काशिराज,  पुर...</td>\n",
       "      <td>1.5. \"Dhrishtaketu, chekitana and the valiant ...</td>\n",
       "      <td>1.5 धृष्टकेतुः Dhrishtaketu? चेकितानः Chekitan...</td>\n",
       "      <td>[]</td>\n",
       "      <td>[]</td>\n",
       "      <td></td>\n",
       "    </tr>\n",
       "  </tbody>\n",
       "</table>\n",
       "</div>"
      ],
      "text/plain": [
       "      ID  Chapter  Verse                                             Shloka  \\\n",
       "0  BG1.1        1      1  धृतराष्ट्र उवाच |\\nधर्मक्षेत्रे कुरुक्षेत्रे स...   \n",
       "1  BG1.2        1      2  सञ्जय उवाच |\\nदृष्ट्वा तु पाण्डवानीकं व्यूढं द...   \n",
       "2  BG1.3        1      3  पश्यैतां पाण्डुपुत्राणामाचार्य महतीं चमूम् |\\n...   \n",
       "3  BG1.4        1      4  अत्र शूरा महेष्वासा भीमार्जुनसमा युधि |\\nयुयुध...   \n",
       "4  BG1.5        1      5  धृष्टकेतुश्चेकितानः काशिराजश्च वीर्यवान् |\\nपु...   \n",
       "\n",
       "                                     Transliteration  \\\n",
       "0  dhṛtarāṣṭra uvāca .\\ndharmakṣetre kurukṣetre s...   \n",
       "1  sañjaya uvāca .\\ndṛṣṭvā tu pāṇḍavānīkaṃ vyūḍha...   \n",
       "2  paśyaitāṃ pāṇḍuputrāṇāmācārya mahatīṃ camūm .\\...   \n",
       "3  atra śūrā maheṣvāsā bhīmārjunasamā yudhi .\\nyu...   \n",
       "4  dhṛṣṭaketuścekitānaḥ kāśirājaśca vīryavān .\\np...   \n",
       "\n",
       "                                          HinMeaning  \\\n",
       "0  ।।1.1।।धृतराष्ट्र ने कहा -- हे संजय ! धर्मभूमि...   \n",
       "1  ।।1.2।।संजय ने कहा -- पाण्डव-सैन्य की व्यूह रच...   \n",
       "2  ।।1.3।।हे आचार्य ! आपके बुद्धिमान शिष्य द्रुपद...   \n",
       "3  ।।1.4।।इस सेना में महान् धनुर्धारी शूर योद्धा ...   \n",
       "4  ।।1.5।।धृष्टकेतु, चेकितान, बलवान काशिराज,  पुर...   \n",
       "\n",
       "                                          EngMeaning  \\\n",
       "0  1.1 Dhritarashtra said  What did my people and...   \n",
       "1  1.2. Sanjaya said  Having seen the army of the...   \n",
       "2  1.3. \"Behold, O Teacher! this mighty army of t...   \n",
       "3  1.4. Here are heroes, mighty archers, eal in b...   \n",
       "4  1.5. \"Dhrishtaketu, chekitana and the valiant ...   \n",
       "\n",
       "                                         WordMeaning category tags explanation  \n",
       "0  1.1 धर्मक्षेत्रे on the holy plain? कुरुक्षेत्...       []   []              \n",
       "1  1.2 दृष्ट्वा having seen? तु indeed? पाण्डवानी...       []   []              \n",
       "2  1.3 पश्य behold? एताम् this? पाण्डुपुत्राणाम् ...       []   []              \n",
       "3  1.4 अत्र here? शूराः heroes? महेष्वासाः mighty...       []   []              \n",
       "4  1.5 धृष्टकेतुः Dhrishtaketu? चेकितानः Chekitan...       []   []              "
      ]
     },
     "execution_count": 7,
     "metadata": {},
     "output_type": "execute_result"
    }
   ],
   "source": [
    "df.head()"
   ]
  },
  {
   "cell_type": "code",
   "execution_count": 8,
   "id": "092c405a",
   "metadata": {},
   "outputs": [],
   "source": [
    "df = df.rename(columns={\n",
    "    \"Chapter\": \"chapter\",\n",
    "    \"Verse\": \"verse\",\n",
    "    \"Shloka\": \"shloka\",\n",
    "    \"Transliteration\": \"transliteration\",\n",
    "    \"HinMeaning\": \"meaning_hindi\",\n",
    "    \"EngMeaning\": \"meaning_english\",\n",
    "    \"WordMeaning\": \"word_meaning\"\n",
    "})"
   ]
  },
  {
   "cell_type": "code",
   "execution_count": 9,
   "id": "e5b88d4b",
   "metadata": {},
   "outputs": [],
   "source": [
    "# Convert to JSON\n",
    "gita_data = df.to_dict(orient=\"records\")"
   ]
  },
  {
   "cell_type": "code",
   "execution_count": 10,
   "id": "e3c7b94b",
   "metadata": {},
   "outputs": [],
   "source": [
    "import json"
   ]
  },
  {
   "cell_type": "code",
   "execution_count": 13,
   "id": "8ac07f60",
   "metadata": {},
   "outputs": [
    {
     "name": "stdout",
     "output_type": "stream",
     "text": [
      "Saved 701 shlokas to gita_data.json\n"
     ]
    }
   ],
   "source": [
    "# Save to JSON file\n",
    "with open(\"gita_data.json\", \"w\", encoding=\"utf-8\") as f:\n",
    "    json.dump(gita_data, f, ensure_ascii=False, indent=4)\n",
    "\n",
    "print(f\"Saved {len(gita_data)} shlokas to gita_data.json\")"
   ]
  },
  {
   "cell_type": "markdown",
   "id": "de695e5a",
   "metadata": {},
   "source": [
    "### Building model from small data. I will consider chapter 2 in gita."
   ]
  },
  {
   "cell_type": "code",
   "execution_count": 11,
   "id": "f77239f3",
   "metadata": {},
   "outputs": [
    {
     "name": "stdout",
     "output_type": "stream",
     "text": [
      "<class 'pandas.core.frame.DataFrame'>\n",
      "Index: 72 entries, 47 to 118\n",
      "Data columns (total 11 columns):\n",
      " #   Column           Non-Null Count  Dtype \n",
      "---  ------           --------------  ----- \n",
      " 0   ID               72 non-null     object\n",
      " 1   chapter          72 non-null     int64 \n",
      " 2   verse            72 non-null     int64 \n",
      " 3   shloka           72 non-null     object\n",
      " 4   transliteration  72 non-null     object\n",
      " 5   meaning_hindi    72 non-null     object\n",
      " 6   meaning_english  72 non-null     object\n",
      " 7   word_meaning     72 non-null     object\n",
      " 8   category         72 non-null     object\n",
      " 9   tags             72 non-null     object\n",
      " 10  explanation      72 non-null     object\n",
      "dtypes: int64(2), object(9)\n",
      "memory usage: 6.8+ KB\n"
     ]
    }
   ],
   "source": [
    "# Filter for Chapter 2\n",
    "df_chapter2 = df[df['chapter'] == 2].copy()  # Use .copy() to avoid SettingWithCopyWarning\n",
    "df_chapter2.info()"
   ]
  },
  {
   "cell_type": "code",
   "execution_count": 12,
   "id": "17068b63",
   "metadata": {},
   "outputs": [],
   "source": [
    "df_chapter2.reset_index(drop=True,inplace=True)"
   ]
  },
  {
   "cell_type": "code",
   "execution_count": 13,
   "id": "e38ddb1e",
   "metadata": {},
   "outputs": [
    {
     "name": "stdout",
     "output_type": "stream",
     "text": [
      "Number of verses in Chapter 2: 72\n"
     ]
    }
   ],
   "source": [
    "print(f\"Number of verses in Chapter 2: {len(df_chapter2)}\")"
   ]
  },
  {
   "cell_type": "code",
   "execution_count": 14,
   "id": "7d75c397",
   "metadata": {},
   "outputs": [
    {
     "data": {
      "text/plain": [
       "Index(['ID', 'chapter', 'verse', 'shloka', 'transliteration', 'meaning_hindi',\n",
       "       'meaning_english', 'word_meaning', 'category', 'tags', 'explanation'],\n",
       "      dtype='object')"
      ]
     },
     "execution_count": 14,
     "metadata": {},
     "output_type": "execute_result"
    }
   ],
   "source": [
    "df_chapter2.columns"
   ]
  },
  {
   "cell_type": "code",
   "execution_count": 17,
   "id": "1b6b5db3",
   "metadata": {},
   "outputs": [],
   "source": [
    "df_chapter2.drop(columns=['transliteration','meaning_hindi','word_meaning'],axis=1,inplace=True)"
   ]
  },
  {
   "cell_type": "code",
   "execution_count": 18,
   "id": "968f5bca",
   "metadata": {},
   "outputs": [
    {
     "data": {
      "text/html": [
       "<div>\n",
       "<style scoped>\n",
       "    .dataframe tbody tr th:only-of-type {\n",
       "        vertical-align: middle;\n",
       "    }\n",
       "\n",
       "    .dataframe tbody tr th {\n",
       "        vertical-align: top;\n",
       "    }\n",
       "\n",
       "    .dataframe thead th {\n",
       "        text-align: right;\n",
       "    }\n",
       "</style>\n",
       "<table border=\"1\" class=\"dataframe\">\n",
       "  <thead>\n",
       "    <tr style=\"text-align: right;\">\n",
       "      <th></th>\n",
       "      <th>ID</th>\n",
       "      <th>chapter</th>\n",
       "      <th>verse</th>\n",
       "      <th>shloka</th>\n",
       "      <th>meaning_english</th>\n",
       "      <th>category</th>\n",
       "      <th>tags</th>\n",
       "      <th>explanation</th>\n",
       "    </tr>\n",
       "  </thead>\n",
       "  <tbody>\n",
       "    <tr>\n",
       "      <th>0</th>\n",
       "      <td>BG2.1</td>\n",
       "      <td>2</td>\n",
       "      <td>1</td>\n",
       "      <td>सञ्जय उवाच |\\nतं तथा कृपयाविष्टमश्रुपूर्णाकुले...</td>\n",
       "      <td>2.1 Sanjaya said  To him who was thus overcome...</td>\n",
       "      <td>[]</td>\n",
       "      <td>[]</td>\n",
       "      <td></td>\n",
       "    </tr>\n",
       "    <tr>\n",
       "      <th>1</th>\n",
       "      <td>BG2.2</td>\n",
       "      <td>2</td>\n",
       "      <td>2</td>\n",
       "      <td>श्रीभगवानुवाच |\\nकुतस्त्वा कश्मलमिदं विषमे समु...</td>\n",
       "      <td>2.2 The Blessed Lord said  Whence is this peri...</td>\n",
       "      <td>[]</td>\n",
       "      <td>[]</td>\n",
       "      <td></td>\n",
       "    </tr>\n",
       "    <tr>\n",
       "      <th>2</th>\n",
       "      <td>BG2.3</td>\n",
       "      <td>2</td>\n",
       "      <td>3</td>\n",
       "      <td>क्लैब्यं मा स्म गमः पार्थ नैतत्त्वय्युपपद्यते ...</td>\n",
       "      <td>2.3 Yield not to impotence, O Arjuna, son of P...</td>\n",
       "      <td>[]</td>\n",
       "      <td>[]</td>\n",
       "      <td></td>\n",
       "    </tr>\n",
       "    <tr>\n",
       "      <th>3</th>\n",
       "      <td>BG2.4</td>\n",
       "      <td>2</td>\n",
       "      <td>4</td>\n",
       "      <td>अर्जुन उवाच |\\nकथं भीष्ममहं सङ्ख्ये द्रोणं च म...</td>\n",
       "      <td>2.4 Arjuna said  How, O Madhusudana, shall I f...</td>\n",
       "      <td>[]</td>\n",
       "      <td>[]</td>\n",
       "      <td></td>\n",
       "    </tr>\n",
       "    <tr>\n",
       "      <th>4</th>\n",
       "      <td>BG2.5</td>\n",
       "      <td>2</td>\n",
       "      <td>5</td>\n",
       "      <td>गुरूनहत्वा हि महानुभावान्\\nश्रेयो भोक्तुं भैक्...</td>\n",
       "      <td>2.5 Better it is, indeed, in this world to acc...</td>\n",
       "      <td>[]</td>\n",
       "      <td>[]</td>\n",
       "      <td></td>\n",
       "    </tr>\n",
       "    <tr>\n",
       "      <th>...</th>\n",
       "      <td>...</td>\n",
       "      <td>...</td>\n",
       "      <td>...</td>\n",
       "      <td>...</td>\n",
       "      <td>...</td>\n",
       "      <td>...</td>\n",
       "      <td>...</td>\n",
       "      <td>...</td>\n",
       "    </tr>\n",
       "    <tr>\n",
       "      <th>67</th>\n",
       "      <td>BG2.68</td>\n",
       "      <td>2</td>\n",
       "      <td>68</td>\n",
       "      <td>तस्माद्यस्य महाबाहो निगृहीतानि सर्वशः |\\nइन्द्...</td>\n",
       "      <td>2.68 Therefore, O mighty-armed Arjuna, his kno...</td>\n",
       "      <td>[]</td>\n",
       "      <td>[]</td>\n",
       "      <td></td>\n",
       "    </tr>\n",
       "    <tr>\n",
       "      <th>68</th>\n",
       "      <td>BG2.69</td>\n",
       "      <td>2</td>\n",
       "      <td>69</td>\n",
       "      <td>या निशा सर्वभूतानां तस्यां जागर्ति संयमी |\\nयस...</td>\n",
       "      <td>2.69 That which is night to all beings, in tha...</td>\n",
       "      <td>[]</td>\n",
       "      <td>[]</td>\n",
       "      <td></td>\n",
       "    </tr>\n",
       "    <tr>\n",
       "      <th>69</th>\n",
       "      <td>BG2.70</td>\n",
       "      <td>2</td>\n",
       "      <td>70</td>\n",
       "      <td>आपूर्यमाणमचलप्रतिष्ठं\\nसमुद्रमापः प्रविशन्ति य...</td>\n",
       "      <td>2.70 He attains peace into whom all desires en...</td>\n",
       "      <td>[]</td>\n",
       "      <td>[]</td>\n",
       "      <td></td>\n",
       "    </tr>\n",
       "    <tr>\n",
       "      <th>70</th>\n",
       "      <td>BG2.71</td>\n",
       "      <td>2</td>\n",
       "      <td>71</td>\n",
       "      <td>विहाय कामान्यः सर्वान्पुमांश्चरति निःस्पृहः |\\...</td>\n",
       "      <td>2.71 That man attains peace who, abandoning al...</td>\n",
       "      <td>[]</td>\n",
       "      <td>[]</td>\n",
       "      <td></td>\n",
       "    </tr>\n",
       "    <tr>\n",
       "      <th>71</th>\n",
       "      <td>BG2.72</td>\n",
       "      <td>2</td>\n",
       "      <td>72</td>\n",
       "      <td>एषा ब्राह्मी स्थितिः पार्थ नैनां प्राप्य विमुह...</td>\n",
       "      <td>2.72 This is the Brahmic seat (eternal state),...</td>\n",
       "      <td>[]</td>\n",
       "      <td>[]</td>\n",
       "      <td></td>\n",
       "    </tr>\n",
       "  </tbody>\n",
       "</table>\n",
       "<p>72 rows × 8 columns</p>\n",
       "</div>"
      ],
      "text/plain": [
       "        ID  chapter  verse                                             shloka  \\\n",
       "0    BG2.1        2      1  सञ्जय उवाच |\\nतं तथा कृपयाविष्टमश्रुपूर्णाकुले...   \n",
       "1    BG2.2        2      2  श्रीभगवानुवाच |\\nकुतस्त्वा कश्मलमिदं विषमे समु...   \n",
       "2    BG2.3        2      3  क्लैब्यं मा स्म गमः पार्थ नैतत्त्वय्युपपद्यते ...   \n",
       "3    BG2.4        2      4  अर्जुन उवाच |\\nकथं भीष्ममहं सङ्ख्ये द्रोणं च म...   \n",
       "4    BG2.5        2      5  गुरूनहत्वा हि महानुभावान्\\nश्रेयो भोक्तुं भैक्...   \n",
       "..     ...      ...    ...                                                ...   \n",
       "67  BG2.68        2     68  तस्माद्यस्य महाबाहो निगृहीतानि सर्वशः |\\nइन्द्...   \n",
       "68  BG2.69        2     69  या निशा सर्वभूतानां तस्यां जागर्ति संयमी |\\nयस...   \n",
       "69  BG2.70        2     70  आपूर्यमाणमचलप्रतिष्ठं\\nसमुद्रमापः प्रविशन्ति य...   \n",
       "70  BG2.71        2     71  विहाय कामान्यः सर्वान्पुमांश्चरति निःस्पृहः |\\...   \n",
       "71  BG2.72        2     72  एषा ब्राह्मी स्थितिः पार्थ नैनां प्राप्य विमुह...   \n",
       "\n",
       "                                      meaning_english category tags  \\\n",
       "0   2.1 Sanjaya said  To him who was thus overcome...       []   []   \n",
       "1   2.2 The Blessed Lord said  Whence is this peri...       []   []   \n",
       "2   2.3 Yield not to impotence, O Arjuna, son of P...       []   []   \n",
       "3   2.4 Arjuna said  How, O Madhusudana, shall I f...       []   []   \n",
       "4   2.5 Better it is, indeed, in this world to acc...       []   []   \n",
       "..                                                ...      ...  ...   \n",
       "67  2.68 Therefore, O mighty-armed Arjuna, his kno...       []   []   \n",
       "68  2.69 That which is night to all beings, in tha...       []   []   \n",
       "69  2.70 He attains peace into whom all desires en...       []   []   \n",
       "70  2.71 That man attains peace who, abandoning al...       []   []   \n",
       "71  2.72 This is the Brahmic seat (eternal state),...       []   []   \n",
       "\n",
       "   explanation  \n",
       "0               \n",
       "1               \n",
       "2               \n",
       "3               \n",
       "4               \n",
       "..         ...  \n",
       "67              \n",
       "68              \n",
       "69              \n",
       "70              \n",
       "71              \n",
       "\n",
       "[72 rows x 8 columns]"
      ]
     },
     "execution_count": 18,
     "metadata": {},
     "output_type": "execute_result"
    }
   ],
   "source": [
    "df_chapter2"
   ]
  },
  {
   "cell_type": "code",
   "execution_count": 19,
   "id": "88bda411",
   "metadata": {},
   "outputs": [
    {
     "name": "stdout",
     "output_type": "stream",
     "text": [
      "Saved 72 shlokas to chap2.json\n"
     ]
    }
   ],
   "source": [
    "chap_2=df_chapter2.to_dict(orient=\"records\")\n",
    "with open(\"chap2.json\", \"w\", encoding=\"utf-8\") as f:\n",
    "    json.dump(chap_2, f, ensure_ascii=False, indent=4)\n",
    "\n",
    "print(f\"Saved {len(chap_2)} shlokas to chap2.json\")"
   ]
  },
  {
   "cell_type": "code",
   "execution_count": 1,
   "id": "f108d570",
   "metadata": {},
   "outputs": [],
   "source": [
    "import json\n",
    "with open(\"chap2.json\", \"r\") as f:  # Replace with actual filename\n",
    "    shloka_data = json.load(f)"
   ]
  },
  {
   "cell_type": "code",
   "execution_count": 2,
   "id": "93d02941",
   "metadata": {},
   "outputs": [],
   "source": [
    "!pip install -q sentence-transformers\n",
    "\n",
    "\n"
   ]
  },
  {
   "cell_type": "code",
   "execution_count": 3,
   "id": "09273382",
   "metadata": {},
   "outputs": [
    {
     "name": "stderr",
     "output_type": "stream",
     "text": [
      "/workspaces/bhagvad-gita-ai/.venv/lib/python3.12/site-packages/tqdm/auto.py:21: TqdmWarning: IProgress not found. Please update jupyter and ipywidgets. See https://ipywidgets.readthedocs.io/en/stable/user_install.html\n",
      "  from .autonotebook import tqdm as notebook_tqdm\n"
     ]
    }
   ],
   "source": [
    "from sentence_transformers import SentenceTransformer, util\n",
    "\n",
    "model = SentenceTransformer('all-MiniLM-L6-v2')"
   ]
  },
  {
   "cell_type": "code",
   "execution_count": null,
   "id": "ceb84037",
   "metadata": {},
   "outputs": [],
   "source": [
    "from sentence_transformers import SentenceTransformer, util\n",
    "\n",
    "model = SentenceTransformer('all-MiniLM-L6-v2')"
   ]
  },
  {
   "cell_type": "code",
   "execution_count": null,
   "id": "68b48023",
   "metadata": {},
   "outputs": [],
   "source": [
    "shloka_texts = [entry[\"explanation\"] + \" \" + \" \".join(entry[\"tags\"]) for entry in shloka_data]\n",
    "shloka_embeddings = model.encode(shloka_texts, convert_to_tensor=True)\n"
   ]
  },
  {
   "cell_type": "code",
   "execution_count": null,
   "id": "b64a7531",
   "metadata": {},
   "outputs": [],
   "source": [
    "!pip install -q sentence-transformers\n",
    "import torch  "
   ]
  },
  {
   "cell_type": "code",
   "execution_count": null,
   "id": "35884e42",
   "metadata": {},
   "outputs": [],
   "source": [
    "user_problem = input(\"Enter your problem or question (in English): \")"
   ]
  },
  {
   "cell_type": "code",
   "execution_count": null,
   "id": "b16f32e4",
   "metadata": {},
   "outputs": [],
   "source": [
    "query_embedding = model.encode(user_problem, convert_to_tensor=True)\n",
    "cosine_scores = util.pytorch_cos_sim(query_embedding, shloka_embeddings)\n",
    "\n",
    "# Get top 3 matches\n",
    "top_k = 3\n",
    "top_results = torch.topk(cosine_scores, k=top_k)\n",
    "\n",
    "for idx, score in zip(top_results.indices[0], top_results.values[0]):\n",
    "    entry = shloka_data[idx]\n",
    "    print(f\"\\n🔹 Match Score: {score.item():.2f}\")\n",
    "    print(f\"🕉️ Shloka: {entry['shloka']}\")\n",
    "    print(f\"📖 Meaning: {entry['meaning_english']}\")\n",
    "    print(f\"🧘 Explanation: {entry['explanation']}\")\n",
    "    print(f\"🏷️ Tags: {entry['tags']}\")\n",
    "    print(f\"📚 Category: {entry['category']}\")\n"
   ]
  },
  {
   "cell_type": "code",
   "execution_count": null,
   "id": "2a8f1588",
   "metadata": {},
   "outputs": [],
   "source": [
    "# Only the top result\n",
    "top_index = top_results.indices[0][0]\n",
    "entry = shloka_data[top_index]\n",
    "\n",
    "print(\"\\n🕉️ Solution to Your Problem Based on Bhagavad Gita:\\n\")\n",
    "print(\"💡 Here's what Lord Krishna teaches:\\n\")\n",
    "\n",
    "print(f\"📌 *{entry.get('explanation', 'Explanation not found')}*\\n\")\n",
    "print(f\"📜 Shloka (Sanskrit): {entry.get('shloka', 'N/A')}\\n\")\n",
    "\n",
    "print(f\"🗣️ Meaning (English): {entry.get('eng_meaning', 'Not available')}\\n\")\n",
    "print(f\"🔖 Category: {entry.get('category', 'Unknown')} | 🏷️ Tags: {', '.join(entry.get('tags', []))}\")\n",
    "print(\"=\" * 80)\n"
   ]
  }
 ],
 "metadata": {
  "kernelspec": {
   "display_name": ".venv",
   "language": "python",
   "name": "python3"
  },
  "language_info": {
   "codemirror_mode": {
    "name": "ipython",
    "version": 3
   },
   "file_extension": ".py",
   "mimetype": "text/x-python",
   "name": "python",
   "nbconvert_exporter": "python",
   "pygments_lexer": "ipython3",
   "version": "3.12.1"
  }
 },
 "nbformat": 4,
 "nbformat_minor": 5
}
